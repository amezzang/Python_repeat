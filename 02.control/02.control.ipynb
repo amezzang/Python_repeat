{
 "cells": [
  {
   "cell_type": "code",
   "execution_count": 1,
   "metadata": {},
   "outputs": [
    {
     "name": "stdout",
     "output_type": "stream",
     "text": [
      "야호\n",
      "hoxy 나도실행?\n"
     ]
    }
   ],
   "source": [
    "for i in range(4):\n",
    "    if(i==3):\n",
    "        print(\"야호\")\n",
    "else:\n",
    "    print(\"hoxy 나도실행?\") # for문후 else는 for문이 다 돌고 실행"
   ]
  },
  {
   "cell_type": "code",
   "execution_count": 2,
   "metadata": {},
   "outputs": [
    {
     "name": "stdout",
     "output_type": "stream",
     "text": [
      "야호\n"
     ]
    }
   ],
   "source": [
    "for i in range(4):\n",
    "    if(i==3):\n",
    "        print(\"야호\")\n",
    "        break \n",
    "else:\n",
    "    print(\"hoxy 나도실행?\") # 안될껄  #break를 만나면 else실행 x"
   ]
  },
  {
   "cell_type": "code",
   "execution_count": null,
   "metadata": {},
   "outputs": [],
   "source": []
  }
 ],
 "metadata": {
  "kernelspec": {
   "display_name": "Python 3",
   "language": "python",
   "name": "python3"
  },
  "language_info": {
   "codemirror_mode": {
    "name": "ipython",
    "version": 3
   },
   "file_extension": ".py",
   "mimetype": "text/x-python",
   "name": "python",
   "nbconvert_exporter": "python",
   "pygments_lexer": "ipython3",
   "version": "3.8.1"
  }
 },
 "nbformat": 4,
 "nbformat_minor": 4
}
