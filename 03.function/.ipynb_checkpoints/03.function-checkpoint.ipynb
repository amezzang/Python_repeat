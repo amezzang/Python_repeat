{
 "cells": [
  {
   "cell_type": "code",
   "execution_count": 1,
   "metadata": {},
   "outputs": [
    {
     "ename": "SyntaxError",
     "evalue": "non-default argument follows default argument (<ipython-input-1-eadb1e3d24c9>, line 1)",
     "output_type": "error",
     "traceback": [
      "\u001b[1;36m  File \u001b[1;32m\"<ipython-input-1-eadb1e3d24c9>\"\u001b[1;36m, line \u001b[1;32m1\u001b[0m\n\u001b[1;33m    def greeting(name = 'tony', age):  # 기본값없는 애들을 무조건 앞으로, 있는 애들은 뒤로.\u001b[0m\n\u001b[1;37m                 ^\u001b[0m\n\u001b[1;31mSyntaxError\u001b[0m\u001b[1;31m:\u001b[0m non-default argument follows default argument\n"
     ]
    }
   ],
   "source": [
    "def greeting(name = 'tony', age):  # 기본값없는 애들을 무조건 앞으로, 있는 애들은 뒤로.\n",
    "    return f'{name}은 {age}살입니다.'"
   ]
  },
  {
   "cell_type": "code",
   "execution_count": 5,
   "metadata": {},
   "outputs": [],
   "source": [
    "def greeting(age, name = 'tony'): # 기본값없으면 무조건 앞으로\n",
    "    return f'{name}은 {age}살입니다.'"
   ]
  },
  {
   "cell_type": "code",
   "execution_count": 7,
   "metadata": {},
   "outputs": [
    {
     "data": {
      "text/plain": [
       "'tony은 1살입니다.'"
      ]
     },
     "execution_count": 7,
     "metadata": {},
     "output_type": "execute_result"
    }
   ],
   "source": [
    "def greeting(age=1, name = 'tony'): # 기본값없으면 무조건 앞으로\n",
    "    return f'{name}은 {age}살입니다.'\n",
    "\n",
    "greeting()"
   ]
  },
  {
   "cell_type": "code",
   "execution_count": 10,
   "metadata": {},
   "outputs": [
    {
     "data": {
      "text/plain": [
       "'ellie은 3살입니다.'"
      ]
     },
     "execution_count": 10,
     "metadata": {},
     "output_type": "execute_result"
    }
   ],
   "source": [
    "def greeting(age=1, name = 'tony'): \n",
    "    return f'{name}은 {age}살입니다.'\n",
    "\n",
    "greeting(3, 'ellie') # 인자를 전달하면 기본값사용x, 인자없으면 기본값사용"
   ]
  },
  {
   "cell_type": "code",
   "execution_count": 19,
   "metadata": {},
   "outputs": [
    {
     "name": "stdout",
     "output_type": "stream",
     "text": [
      "<class 'tuple'>\n",
      "<class 'tuple'>\n",
      "<class 'tuple'>\n",
      "(3, ([1, 2, 3], 1, 2, 3, [4, 5, 6]))\n"
     ]
    }
   ],
   "source": [
    "#가변인자 *arg : 임의의 개수의 것들을 받음, 마지막에 위치\n",
    "def func(a,b,*args):\n",
    "    print(type(args))\n",
    "    return a+b, args\n",
    "\n",
    "print(type(func(1,2,[1,2,3], 1, 2, 3, [4, 5, 6]))) # 신기하네튜플\n",
    "print(func(1,2,[1,2,3], 1, 2, 3, [4, 5, 6]))"
   ]
  },
  {
   "cell_type": "code",
   "execution_count": 22,
   "metadata": {},
   "outputs": [
    {
     "name": "stdout",
     "output_type": "stream",
     "text": [
      "<class 'tuple'>\n",
      "4\n"
     ]
    }
   ],
   "source": [
    "def func(*args):\n",
    "    print(type(args)) #tuple도 max되구낭\n",
    "    a = max(args)\n",
    "    return a\n",
    "\n",
    "print(func(1, 2, 3, 4))"
   ]
  },
  {
   "cell_type": "code",
   "execution_count": 23,
   "metadata": {},
   "outputs": [
    {
     "name": "stdout",
     "output_type": "stream",
     "text": [
      "{'한국어': 'ko', '영어': 'en'}\n"
     ]
    }
   ],
   "source": [
    "hi = dict(한국어 = 'ko', 영어 = 'en')\n",
    "print(hi)"
   ]
  },
  {
   "cell_type": "code",
   "execution_count": 27,
   "metadata": {},
   "outputs": [
    {
     "name": "stdout",
     "output_type": "stream",
     "text": [
      "['한국어 : 안녕', '영어 : hi']\n",
      "한국어 : 안녕, 영어 : hi\n"
     ]
    }
   ],
   "source": [
    "def my_dict(**arg):  #정의되지 않은 키워드를 입력받을 땐(한국어, 영어..) **별두개가 필요하다.\n",
    "    result = []\n",
    "    for key, value in arg.items():\n",
    "        result.append(f'{key} : {value}')\n",
    "    \n",
    "    print(result)\n",
    "    return ', '.join(result) #리스트 사이사이에 컴마를 넣겠다.\n",
    "    \n",
    "print(my_dict(한국어 = '안녕', 영어 = 'hi'))"
   ]
  },
  {
   "cell_type": "code",
   "execution_count": 34,
   "metadata": {},
   "outputs": [
    {
     "name": "stdout",
     "output_type": "stream",
     "text": [
      "<class 'dict'>\n",
      "{'한국어': '안녕', '영어': 'hi'}\n"
     ]
    }
   ],
   "source": [
    "def func(**arg):\n",
    "    print(type(arg))\n",
    "    return arg\n",
    "\n",
    "result=  func(한국어 = '안녕', 영어 = 'hi')\n",
    "print(result)"
   ]
  },
  {
   "cell_type": "code",
   "execution_count": 35,
   "metadata": {},
   "outputs": [
    {
     "data": {
      "text/plain": [
       "[3, 4, 5]"
      ]
     },
     "execution_count": 35,
     "metadata": {},
     "output_type": "execute_result"
    }
   ],
   "source": [
    "list(range(3, 6))"
   ]
  },
  {
   "cell_type": "code",
   "execution_count": 36,
   "metadata": {},
   "outputs": [
    {
     "ename": "TypeError",
     "evalue": "'list' object cannot be interpreted as an integer",
     "output_type": "error",
     "traceback": [
      "\u001b[1;31m---------------------------------------------------------------------------\u001b[0m",
      "\u001b[1;31mTypeError\u001b[0m                                 Traceback (most recent call last)",
      "\u001b[1;32m<ipython-input-36-28cefc7e438a>\u001b[0m in \u001b[0;36m<module>\u001b[1;34m\u001b[0m\n\u001b[0;32m      1\u001b[0m \u001b[0marg\u001b[0m \u001b[1;33m=\u001b[0m \u001b[1;33m[\u001b[0m\u001b[1;36m3\u001b[0m\u001b[1;33m,\u001b[0m \u001b[1;36m6\u001b[0m\u001b[1;33m]\u001b[0m\u001b[1;33m\u001b[0m\u001b[1;33m\u001b[0m\u001b[0m\n\u001b[1;32m----> 2\u001b[1;33m \u001b[0mlist\u001b[0m\u001b[1;33m(\u001b[0m\u001b[0mrange\u001b[0m\u001b[1;33m(\u001b[0m\u001b[0marg\u001b[0m\u001b[1;33m)\u001b[0m\u001b[1;33m)\u001b[0m\u001b[1;33m\u001b[0m\u001b[1;33m\u001b[0m\u001b[0m\n\u001b[0m",
      "\u001b[1;31mTypeError\u001b[0m: 'list' object cannot be interpreted as an integer"
     ]
    }
   ],
   "source": [
    "arg = [3, 6]\n",
    "list(range(arg))"
   ]
  },
  {
   "cell_type": "code",
   "execution_count": 37,
   "metadata": {},
   "outputs": [
    {
     "data": {
      "text/plain": [
       "[3, 4, 5]"
      ]
     },
     "execution_count": 37,
     "metadata": {},
     "output_type": "execute_result"
    }
   ],
   "source": [
    "list(range(*arg)) #별을 붙인다"
   ]
  },
  {
   "cell_type": "code",
   "execution_count": 47,
   "metadata": {},
   "outputs": [
    {
     "data": {
      "text/plain": [
       "'홍길동님 회원가입이 완료되었습니다.'"
      ]
     },
     "execution_count": 47,
     "metadata": {},
     "output_type": "execute_result"
    }
   ],
   "source": [
    "my_account = {\n",
    "    'username': '홍길동',\n",
    "    'password': '1q2w3e4r',\n",
    "    'password_confirmation': '1q2w3e4r'\n",
    "}\n",
    "\n",
    "def login(username, password, password_confirmation):\n",
    "    if username and password:\n",
    "        if(len(password)<8):return '비밀번호는 8자리 이상입력해라'\n",
    "        if(password==password_confirmation):return f'{username}님 회원가입이 완료되었습니다.'\n",
    "        else : return '비밀번호와 비밀번호 확인이 일치하지 않습니다.'\n",
    "            \n",
    "            \n",
    "username = '김예솔'\n",
    "password = 1234\n",
    "password = 1234\n",
    "\n",
    "login(**my_account) #####기억!!!!!"
   ]
  },
  {
   "cell_type": "code",
   "execution_count": 52,
   "metadata": {},
   "outputs": [
    {
     "name": "stdout",
     "output_type": "stream",
     "text": [
      "야호\n"
     ]
    }
   ],
   "source": [
    "#다른방식으루 연습해보까?\n",
    "def login(**user):\n",
    "    if(username and password):\n",
    "        print(\"야호\")\n",
    "           \n",
    "login(**my_account) # 딕셔너리를 보내고 그걸 쓰려면 인자, 키워드 모두 **붙여주기 ###핵중요"
   ]
  },
  {
   "cell_type": "code",
   "execution_count": 40,
   "metadata": {},
   "outputs": [
    {
     "name": "stdout",
     "output_type": "stream",
     "text": [
      "{'한국어': '안녕', '영어': 'hi'}\n"
     ]
    }
   ],
   "source": [
    "def func(**arg):\n",
    "\n",
    "    return arg\n",
    "\n",
    "print(func(한국어 = '안녕', 영어 = 'hi'))"
   ]
  },
  {
   "cell_type": "code",
   "execution_count": 50,
   "metadata": {},
   "outputs": [
    {
     "name": "stdout",
     "output_type": "stream",
     "text": [
      "http://www.kobis.or.kr/kobisopenapi/webservice/rest/boxoffice/searchDailyBoxOfficeList.json?itemPerPage=10&key=abc&targetDt=yyyymmdd&\n"
     ]
    }
   ],
   "source": [
    "api = {\n",
    "    'key': 'abc',\n",
    "    'targetDt': 'yyyymmdd'\n",
    "}\n",
    "\n",
    "def my_url(**api):\n",
    "    url = 'http://www.kobis.or.kr/kobisopenapi/webservice/rest/boxoffice/searchDailyBoxOfficeList.json?itemPerPage=10&'\n",
    "    s = []\n",
    "    for key, value in api.items():\n",
    "        tmp = key + '=' +value + '&'\n",
    "        url+= tmp\n",
    "    return url\n",
    "\n",
    "\n",
    "print(my_url(**api))"
   ]
  },
  {
   "cell_type": "code",
   "execution_count": 55,
   "metadata": {},
   "outputs": [
    {
     "name": "stdout",
     "output_type": "stream",
     "text": [
      "'필수 요청변수가 누락되었습니다.'\n"
     ]
    }
   ],
   "source": [
    "def my_url(itemPerPage, **api):\n",
    "    \n",
    "    if not(1<=itemPerPage<=10):\n",
    "        print(\"'1~10 까지의 값을 넣어주세요.'\")\n",
    "        return\n",
    "    if ('key' not in api or 'targetDt' not in api) : \n",
    "        print(\"'필수 요청변수가 누락되었습니다.'\")\n",
    "        return \n",
    "    \n",
    "api = {\n",
    "    'targetDt': 'yyyymmdd'\n",
    "}\n",
    "my_url(10, **api)"
   ]
  },
  {
   "cell_type": "code",
   "execution_count": null,
   "metadata": {},
   "outputs": [],
   "source": []
  }
 ],
 "metadata": {
  "kernelspec": {
   "display_name": "Python 3",
   "language": "python",
   "name": "python3"
  },
  "language_info": {
   "codemirror_mode": {
    "name": "ipython",
    "version": 3
   },
   "file_extension": ".py",
   "mimetype": "text/x-python",
   "name": "python",
   "nbconvert_exporter": "python",
   "pygments_lexer": "ipython3",
   "version": "3.8.1"
  }
 },
 "nbformat": 4,
 "nbformat_minor": 4
}
